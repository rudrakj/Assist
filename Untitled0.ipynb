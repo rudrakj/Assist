{
  "nbformat": 4,
  "nbformat_minor": 0,
  "metadata": {
    "colab": {
      "name": "Untitled0.ipynb",
      "provenance": [],
      "history_visible": true,
      "authorship_tag": "ABX9TyOaSxsj4tdiBjoLYTrQyUgZ",
      "include_colab_link": true
    },
    "kernelspec": {
      "name": "python3",
      "display_name": "Python 3"
    },
    "language_info": {
      "name": "python"
    }
  },
  "cells": [
    {
      "cell_type": "markdown",
      "metadata": {
        "id": "view-in-github",
        "colab_type": "text"
      },
      "source": [
        "<a href=\"https://colab.research.google.com/github/rudrakj/Assist/blob/master/Untitled0.ipynb\" target=\"_parent\"><img src=\"https://colab.research.google.com/assets/colab-badge.svg\" alt=\"Open In Colab\"/></a>"
      ]
    },
    {
      "cell_type": "code",
      "metadata": {
        "id": "jo-FIwziJ0GY"
      },
      "source": [
        "import pandas as pd"
      ],
      "execution_count": 1,
      "outputs": []
    },
    {
      "cell_type": "code",
      "metadata": {
        "id": "fczFcw3dJ40c"
      },
      "source": [
        "#Assignment 2 Advanced Python  \n",
        "df1 =pd.DataFrame({'name': ['John', 'Smith','Paul'],'Age': ['25', '30', '50']},index=[0, 1, 2])\n",
        "df2 =pd.DataFrame({'name': ['Adam', 'Smith'],'Age': ['26', '11']},index=[3, 4])  "
      ],
      "execution_count": 3,
      "outputs": []
    },
    {
      "cell_type": "code",
      "metadata": {
        "colab": {
          "base_uri": "https://localhost:8080/"
        },
        "id": "vFKZSdo-KDML",
        "outputId": "90621ec5-1b43-4bc5-b107-d09b3463d4d6"
      },
      "source": [
        "\n",
        "#Question1\n",
        "df1.rename(columns={\"name\":\"NAME\",\"Age\":\"age\"},inplace=True)\n",
        "print(df1.columns)\n",
        "df2.rename(columns={\"name\":\"NAME\",\"Age\":\"age\"},inplace=True)\n",
        "print(df2)"
      ],
      "execution_count": 18,
      "outputs": [
        {
          "output_type": "stream",
          "text": [
            "Index(['NAME', 'age'], dtype='object')\n",
            "    NAME age\n",
            "3   Adam  26\n",
            "4  Smith  11\n"
          ],
          "name": "stdout"
        }
      ]
    },
    {
      "cell_type": "code",
      "metadata": {
        "colab": {
          "base_uri": "https://localhost:8080/"
        },
        "id": "yaDliV2oKXHu",
        "outputId": "d93c549b-2d43-48a3-dbf9-c2ecdf3aa272"
      },
      "source": [
        "#Question2\n",
        "append=df1.append(df2)\n",
        "append\n",
        "print(append)"
      ],
      "execution_count": 45,
      "outputs": [
        {
          "output_type": "stream",
          "text": [
            "    NAME age\n",
            "A   John  25\n",
            "1  Smith  30\n",
            "2   Paul  50\n",
            "B   Adam  26\n",
            "4  Smith  11\n"
          ],
          "name": "stdout"
        }
      ]
    },
    {
      "cell_type": "code",
      "metadata": {
        "colab": {
          "base_uri": "https://localhost:8080/"
        },
        "id": "0ez4DfJBKq_a",
        "outputId": "0ef8e2cd-5dea-442b-d296-487fcb556501"
      },
      "source": [
        "#Question3\n",
        "dropdupl=append.drop_duplicates(\"NAME\")\n",
        "print(dropdupl)"
      ],
      "execution_count": 20,
      "outputs": [
        {
          "output_type": "stream",
          "text": [
            "    NAME age\n",
            "0   John  25\n",
            "1  Smith  30\n",
            "2   Paul  50\n",
            "3   Adam  26\n"
          ],
          "name": "stdout"
        }
      ]
    },
    {
      "cell_type": "code",
      "metadata": {
        "colab": {
          "base_uri": "https://localhost:8080/"
        },
        "id": "ih7QCGLzNQn8",
        "outputId": "8ea6536c-578d-4bcb-f62a-014d30b906c9"
      },
      "source": [
        "#Question4\n",
        "sort=append.sort_values(\"age\")\n",
        "print(sort)"
      ],
      "execution_count": 32,
      "outputs": [
        {
          "output_type": "stream",
          "text": [
            "    NAME age\n",
            "4  Smith  11\n",
            "0   John  25\n",
            "3   Adam  26\n",
            "1  Smith  30\n",
            "2   Paul  50\n"
          ],
          "name": "stdout"
        }
      ]
    },
    {
      "cell_type": "code",
      "metadata": {
        "colab": {
          "base_uri": "https://localhost:8080/",
          "height": 351
        },
        "id": "GZZ0zOQnNc2e",
        "outputId": "23b987ad-26ee-4cfd-b5a0-530e5c072905"
      },
      "source": [
        "#Question5\n",
        "df3=df1.rename(index={0:\"A\"},name='A')\n",
        "df3\n",
        "df4=df2.rename(index={3:\"B\"},name=\"B\")\n",
        "df4"
      ],
      "execution_count": 55,
      "outputs": [
        {
          "output_type": "error",
          "ename": "TypeError",
          "evalue": "ignored",
          "traceback": [
            "\u001b[0;31m---------------------------------------------------------------------------\u001b[0m",
            "\u001b[0;31mTypeError\u001b[0m                                 Traceback (most recent call last)",
            "\u001b[0;32m<ipython-input-55-04a34ebf1559>\u001b[0m in \u001b[0;36m<module>\u001b[0;34m()\u001b[0m\n\u001b[1;32m      1\u001b[0m \u001b[0;31m#Question5\u001b[0m\u001b[0;34m\u001b[0m\u001b[0;34m\u001b[0m\u001b[0;34m\u001b[0m\u001b[0m\n\u001b[0;32m----> 2\u001b[0;31m \u001b[0mdf3\u001b[0m\u001b[0;34m=\u001b[0m\u001b[0mdf1\u001b[0m\u001b[0;34m.\u001b[0m\u001b[0mrename\u001b[0m\u001b[0;34m(\u001b[0m\u001b[0mindex\u001b[0m\u001b[0;34m=\u001b[0m\u001b[0;34m{\u001b[0m\u001b[0;36m0\u001b[0m\u001b[0;34m:\u001b[0m\u001b[0;34m\"A\"\u001b[0m\u001b[0;34m}\u001b[0m\u001b[0;34m,\u001b[0m\u001b[0mname\u001b[0m\u001b[0;34m=\u001b[0m\u001b[0;34m'A'\u001b[0m\u001b[0;34m)\u001b[0m\u001b[0;34m\u001b[0m\u001b[0;34m\u001b[0m\u001b[0m\n\u001b[0m\u001b[1;32m      3\u001b[0m \u001b[0mdf3\u001b[0m\u001b[0;34m\u001b[0m\u001b[0;34m\u001b[0m\u001b[0m\n\u001b[1;32m      4\u001b[0m \u001b[0mdf4\u001b[0m\u001b[0;34m=\u001b[0m\u001b[0mdf2\u001b[0m\u001b[0;34m.\u001b[0m\u001b[0mrename\u001b[0m\u001b[0;34m(\u001b[0m\u001b[0mindex\u001b[0m\u001b[0;34m=\u001b[0m\u001b[0;34m{\u001b[0m\u001b[0;36m3\u001b[0m\u001b[0;34m:\u001b[0m\u001b[0;34m\"B\"\u001b[0m\u001b[0;34m}\u001b[0m\u001b[0;34m,\u001b[0m\u001b[0mname\u001b[0m\u001b[0;34m=\u001b[0m\u001b[0;34m\"B\"\u001b[0m\u001b[0;34m)\u001b[0m\u001b[0;34m\u001b[0m\u001b[0;34m\u001b[0m\u001b[0m\n\u001b[1;32m      5\u001b[0m \u001b[0mdf4\u001b[0m\u001b[0;34m\u001b[0m\u001b[0;34m\u001b[0m\u001b[0m\n",
            "\u001b[0;32m/usr/local/lib/python3.7/dist-packages/pandas/util/_decorators.py\u001b[0m in \u001b[0;36mwrapper\u001b[0;34m(*args, **kwargs)\u001b[0m\n\u001b[1;32m    307\u001b[0m         \u001b[0;34m@\u001b[0m\u001b[0mwraps\u001b[0m\u001b[0;34m(\u001b[0m\u001b[0mfunc\u001b[0m\u001b[0;34m)\u001b[0m\u001b[0;34m\u001b[0m\u001b[0;34m\u001b[0m\u001b[0m\n\u001b[1;32m    308\u001b[0m         \u001b[0;32mdef\u001b[0m \u001b[0mwrapper\u001b[0m\u001b[0;34m(\u001b[0m\u001b[0;34m*\u001b[0m\u001b[0margs\u001b[0m\u001b[0;34m,\u001b[0m \u001b[0;34m**\u001b[0m\u001b[0mkwargs\u001b[0m\u001b[0;34m)\u001b[0m \u001b[0;34m->\u001b[0m \u001b[0mCallable\u001b[0m\u001b[0;34m[\u001b[0m\u001b[0;34m...\u001b[0m\u001b[0;34m,\u001b[0m \u001b[0mAny\u001b[0m\u001b[0;34m]\u001b[0m\u001b[0;34m:\u001b[0m\u001b[0;34m\u001b[0m\u001b[0;34m\u001b[0m\u001b[0m\n\u001b[0;32m--> 309\u001b[0;31m             \u001b[0;32mreturn\u001b[0m \u001b[0mfunc\u001b[0m\u001b[0;34m(\u001b[0m\u001b[0;34m*\u001b[0m\u001b[0margs\u001b[0m\u001b[0;34m,\u001b[0m \u001b[0;34m**\u001b[0m\u001b[0mkwargs\u001b[0m\u001b[0;34m)\u001b[0m\u001b[0;34m\u001b[0m\u001b[0;34m\u001b[0m\u001b[0m\n\u001b[0m\u001b[1;32m    310\u001b[0m \u001b[0;34m\u001b[0m\u001b[0m\n\u001b[1;32m    311\u001b[0m         \u001b[0mkind\u001b[0m \u001b[0;34m=\u001b[0m \u001b[0minspect\u001b[0m\u001b[0;34m.\u001b[0m\u001b[0mParameter\u001b[0m\u001b[0;34m.\u001b[0m\u001b[0mPOSITIONAL_OR_KEYWORD\u001b[0m\u001b[0;34m\u001b[0m\u001b[0;34m\u001b[0m\u001b[0m\n",
            "\u001b[0;31mTypeError\u001b[0m: rename() got an unexpected keyword argument 'name'"
          ]
        }
      ]
    },
    {
      "cell_type": "code",
      "metadata": {
        "colab": {
          "base_uri": "https://localhost:8080/"
        },
        "id": "qb38oZNSgclr",
        "outputId": "067f3843-52c9-473a-ad65-8f03dfbe3b16"
      },
      "source": [
        "#Question6\n",
        "age=append.pop('age').\n",
        "age"
      ],
      "execution_count": 46,
      "outputs": [
        {
          "output_type": "execute_result",
          "data": {
            "text/plain": [
              "A    25\n",
              "1    30\n",
              "2    50\n",
              "B    26\n",
              "4    11\n",
              "Name: age, dtype: object"
            ]
          },
          "metadata": {
            "tags": []
          },
          "execution_count": 46
        }
      ]
    },
    {
      "cell_type": "code",
      "metadata": {
        "colab": {
          "base_uri": "https://localhost:8080/",
          "height": 111
        },
        "id": "EZD6g6d9nYzq",
        "outputId": "8891aec1-bd8c-416a-a899-79a441275390"
      },
      "source": [
        "#Question7\n",
        "df2\n"
      ],
      "execution_count": 37,
      "outputs": [
        {
          "output_type": "execute_result",
          "data": {
            "text/html": [
              "<div>\n",
              "<style scoped>\n",
              "    .dataframe tbody tr th:only-of-type {\n",
              "        vertical-align: middle;\n",
              "    }\n",
              "\n",
              "    .dataframe tbody tr th {\n",
              "        vertical-align: top;\n",
              "    }\n",
              "\n",
              "    .dataframe thead th {\n",
              "        text-align: right;\n",
              "    }\n",
              "</style>\n",
              "<table border=\"1\" class=\"dataframe\">\n",
              "  <thead>\n",
              "    <tr style=\"text-align: right;\">\n",
              "      <th></th>\n",
              "      <th>NAME</th>\n",
              "      <th>age</th>\n",
              "    </tr>\n",
              "  </thead>\n",
              "  <tbody>\n",
              "    <tr>\n",
              "      <th>B</th>\n",
              "      <td>Adam</td>\n",
              "      <td>26</td>\n",
              "    </tr>\n",
              "    <tr>\n",
              "      <th>4</th>\n",
              "      <td>Smith</td>\n",
              "      <td>11</td>\n",
              "    </tr>\n",
              "  </tbody>\n",
              "</table>\n",
              "</div>"
            ],
            "text/plain": [
              "    NAME age\n",
              "B   Adam  26\n",
              "4  Smith  11"
            ]
          },
          "metadata": {
            "tags": []
          },
          "execution_count": 37
        }
      ]
    },
    {
      "cell_type": "code",
      "metadata": {
        "colab": {
          "base_uri": "https://localhost:8080/"
        },
        "id": "Ef951vYonthq",
        "outputId": "37c1b95f-db47-4ddd-a692-0f6ae0e4167d"
      },
      "source": [
        "age"
      ],
      "execution_count": 56,
      "outputs": [
        {
          "output_type": "execute_result",
          "data": {
            "text/plain": [
              "A    25\n",
              "1    30\n",
              "2    50\n",
              "B    26\n",
              "4    11\n",
              "Name: age, dtype: object"
            ]
          },
          "metadata": {
            "tags": []
          },
          "execution_count": 56
        }
      ]
    },
    {
      "cell_type": "code",
      "metadata": {
        "colab": {
          "base_uri": "https://localhost:8080/",
          "height": 334
        },
        "id": "OJofeHjIn0D-",
        "outputId": "005eac43-d548-4c0c-a2c6-9fc69b73f4f3"
      },
      "source": [
        "index = pd.MultiIndex.from_arrays(age, names=('A', 'B'))\n",
        "\n",
        "age.groupby().mean()"
      ],
      "execution_count": 59,
      "outputs": [
        {
          "output_type": "error",
          "ename": "TypeError",
          "evalue": "ignored",
          "traceback": [
            "\u001b[0;31m---------------------------------------------------------------------------\u001b[0m",
            "\u001b[0;31mTypeError\u001b[0m                                 Traceback (most recent call last)",
            "\u001b[0;32m<ipython-input-59-67f8b6b990fe>\u001b[0m in \u001b[0;36m<module>\u001b[0;34m()\u001b[0m\n\u001b[0;32m----> 1\u001b[0;31m \u001b[0mindex\u001b[0m \u001b[0;34m=\u001b[0m \u001b[0mpd\u001b[0m\u001b[0;34m.\u001b[0m\u001b[0mMultiIndex\u001b[0m\u001b[0;34m.\u001b[0m\u001b[0mfrom_arrays\u001b[0m\u001b[0;34m(\u001b[0m\u001b[0mage\u001b[0m\u001b[0;34m,\u001b[0m \u001b[0mnames\u001b[0m\u001b[0;34m=\u001b[0m\u001b[0;34m(\u001b[0m\u001b[0;34m'A'\u001b[0m\u001b[0;34m,\u001b[0m \u001b[0;34m'B'\u001b[0m\u001b[0;34m)\u001b[0m\u001b[0;34m)\u001b[0m\u001b[0;34m\u001b[0m\u001b[0;34m\u001b[0m\u001b[0m\n\u001b[0m\u001b[1;32m      2\u001b[0m \u001b[0;34m\u001b[0m\u001b[0m\n\u001b[1;32m      3\u001b[0m \u001b[0mage\u001b[0m\u001b[0;34m.\u001b[0m\u001b[0mgroupby\u001b[0m\u001b[0;34m(\u001b[0m\u001b[0;34m)\u001b[0m\u001b[0;34m.\u001b[0m\u001b[0mmean\u001b[0m\u001b[0;34m(\u001b[0m\u001b[0;34m)\u001b[0m\u001b[0;34m\u001b[0m\u001b[0;34m\u001b[0m\u001b[0m\n",
            "\u001b[0;32m/usr/local/lib/python3.7/dist-packages/pandas/core/indexes/multi.py\u001b[0m in \u001b[0;36mfrom_arrays\u001b[0;34m(cls, arrays, sortorder, names)\u001b[0m\n\u001b[1;32m    429\u001b[0m         \u001b[0;32mfor\u001b[0m \u001b[0marray\u001b[0m \u001b[0;32min\u001b[0m \u001b[0marrays\u001b[0m\u001b[0;34m:\u001b[0m\u001b[0;34m\u001b[0m\u001b[0;34m\u001b[0m\u001b[0m\n\u001b[1;32m    430\u001b[0m             \u001b[0;32mif\u001b[0m \u001b[0;32mnot\u001b[0m \u001b[0mis_list_like\u001b[0m\u001b[0;34m(\u001b[0m\u001b[0marray\u001b[0m\u001b[0;34m)\u001b[0m\u001b[0;34m:\u001b[0m\u001b[0;34m\u001b[0m\u001b[0;34m\u001b[0m\u001b[0m\n\u001b[0;32m--> 431\u001b[0;31m                 \u001b[0;32mraise\u001b[0m \u001b[0mTypeError\u001b[0m\u001b[0;34m(\u001b[0m\u001b[0merror_msg\u001b[0m\u001b[0;34m)\u001b[0m\u001b[0;34m\u001b[0m\u001b[0;34m\u001b[0m\u001b[0m\n\u001b[0m\u001b[1;32m    432\u001b[0m \u001b[0;34m\u001b[0m\u001b[0m\n\u001b[1;32m    433\u001b[0m         \u001b[0;31m# Check if lengths of all arrays are equal or not,\u001b[0m\u001b[0;34m\u001b[0m\u001b[0;34m\u001b[0m\u001b[0;34m\u001b[0m\u001b[0m\n",
            "\u001b[0;31mTypeError\u001b[0m: Input must be a list / sequence of array-likes."
          ]
        }
      ]
    },
    {
      "cell_type": "code",
      "metadata": {
        "colab": {
          "base_uri": "https://localhost:8080/"
        },
        "id": "-t-0TtI1o0TI",
        "outputId": "31f7d32c-588e-4c53-f867-9d4ce923c6bf"
      },
      "source": [
        "#Question8\n",
        "df1['age'][:2]"
      ],
      "execution_count": 60,
      "outputs": [
        {
          "output_type": "execute_result",
          "data": {
            "text/plain": [
              "A    25\n",
              "1    30\n",
              "Name: age, dtype: object"
            ]
          },
          "metadata": {
            "tags": []
          },
          "execution_count": 60
        }
      ]
    },
    {
      "cell_type": "code",
      "metadata": {
        "colab": {
          "base_uri": "https://localhost:8080/"
        },
        "id": "sadVQvT7tDjn",
        "outputId": "906f5013-6293-4dd5-d918-49a360a7e22f"
      },
      "source": [
        "#Question9\n",
        "df2[\"NAME\"][:]"
      ],
      "execution_count": 61,
      "outputs": [
        {
          "output_type": "execute_result",
          "data": {
            "text/plain": [
              "B     Adam\n",
              "4    Smith\n",
              "Name: NAME, dtype: object"
            ]
          },
          "metadata": {
            "tags": []
          },
          "execution_count": 61
        }
      ]
    },
    {
      "cell_type": "code",
      "metadata": {
        "colab": {
          "base_uri": "https://localhost:8080/"
        },
        "id": "ZcDFBgBztXGX",
        "outputId": "b0f17c97-19d7-4772-b8ec-ae1d37fb08ad"
      },
      "source": [
        "#Question10\n",
        "df1[['age']][:2].shape"
      ],
      "execution_count": 62,
      "outputs": [
        {
          "output_type": "execute_result",
          "data": {
            "text/plain": [
              "(2, 1)"
            ]
          },
          "metadata": {
            "tags": []
          },
          "execution_count": 62
        }
      ]
    },
    {
      "cell_type": "code",
      "metadata": {
        "colab": {
          "base_uri": "https://localhost:8080/"
        },
        "id": "5QEpQHyztrVo",
        "outputId": "ea44202b-0440-4f34-926c-91352c9e1f53"
      },
      "source": [
        "#Question11\n",
        "type(df1[['age']][:2].shape)"
      ],
      "execution_count": 63,
      "outputs": [
        {
          "output_type": "execute_result",
          "data": {
            "text/plain": [
              "tuple"
            ]
          },
          "metadata": {
            "tags": []
          },
          "execution_count": 63
        }
      ]
    },
    {
      "cell_type": "code",
      "metadata": {
        "id": "QpRLaejAt0PF"
      },
      "source": [
        "#Question12"
      ],
      "execution_count": 64,
      "outputs": []
    },
    {
      "cell_type": "code",
      "metadata": {
        "id": "KUKdPBHvt3aY"
      },
      "source": [
        "#Question13"
      ],
      "execution_count": 65,
      "outputs": []
    },
    {
      "cell_type": "code",
      "metadata": {
        "id": "qUpo6WyAt473"
      },
      "source": [
        "#Question14"
      ],
      "execution_count": 66,
      "outputs": []
    },
    {
      "cell_type": "code",
      "metadata": {
        "colab": {
          "base_uri": "https://localhost:8080/"
        },
        "id": "ImHQ2JHdt7cT",
        "outputId": "65ba30f9-0a1a-47a9-fa65-fb49cac05700"
      },
      "source": [
        "#QUESTION-2\n",
        "#WITH NUMPY\n",
        "import numpy as np\n",
        "x = np. matrix( [ [1, 2], [3, 4], [5,6]])\n",
        "\n",
        "print('3x2 matrix is: \\n' ,x)\n",
        "y =np. reshape(x, (2, 3) )\n",
        "print(\"Reshape 2x3:\")\n",
        "print(y)\n"
      ],
      "execution_count": 67,
      "outputs": [
        {
          "output_type": "stream",
          "text": [
            "3x2 matrix is: \n",
            " [[1 2]\n",
            " [3 4]\n",
            " [5 6]]\n",
            "Reshape 2x3:\n",
            "[[1 2 3]\n",
            " [4 5 6]]\n"
          ],
          "name": "stdout"
        }
      ]
    },
    {
      "cell_type": "code",
      "metadata": {
        "colab": {
          "base_uri": "https://localhost:8080/"
        },
        "id": "FnxzWRg4uI2c",
        "outputId": "ab6fa204-18bc-4097-c2d5-9f0a3f1be549"
      },
      "source": [
        "#WITHOUT NUMPY\n",
        "x=np. array(([1,2],\n",
        "[3,4],\n",
        "[5,6]))\n",
        "\n",
        "y=[]\n",
        "for i in x:\n",
        "  for a in i:\n",
        "    y . append (a)\n",
        "z=np . empty( [2, 3], dtype=int)\n",
        "count=range(len(y) )\n",
        "c1=0\n",
        "for i in range (2):\n",
        "  for j in range(3) :\n",
        "    z[i][j]=y[c1]\n",
        "    c1=c1+1\n",
        "print(z)\n"
      ],
      "execution_count": 69,
      "outputs": [
        {
          "output_type": "stream",
          "text": [
            "[[1 2 3]\n",
            " [4 5 6]]\n"
          ],
          "name": "stdout"
        }
      ]
    },
    {
      "cell_type": "code",
      "metadata": {
        "colab": {
          "base_uri": "https://localhost:8080/"
        },
        "id": "GpR_Jy5AueGa",
        "outputId": "018e41e9-fcc9-42d1-f44d-83364d46af5b"
      },
      "source": [
        "#QUESTION-3\n",
        "import statistics\n",
        "import math\n",
        "a = [9, 2, 5, 4, 12, 7, 8, 11, 9, 3, 7, 4, 12, 5, 4, 10, 9, 6, 9, 4]\n",
        "MEAN = statistics . mean(a)\n",
        "print(\"The mean is :\")\n",
        "print (MEAN)\n",
        "\n",
        "y = np. array( [9, 2,5,4, 12, 7, 8, 11,9,3, 7,4, 12, 5,4, 10,9,6,9,4])\n",
        "y. size\n",
        "np . mean(y *2)\n",
        "rms = np . sqrt (np. mean(y**2))\n",
        "print(\"The RMS is:\")\n",
        "print (rms )\n",
        "\n",
        "SD = statistics . stdev(a)\n",
        "print(\"The standard deviation is:\")\n",
        "print (SD)\n"
      ],
      "execution_count": 72,
      "outputs": [
        {
          "output_type": "stream",
          "text": [
            "The mean is :\n",
            "7\n",
            "The RMS is:\n",
            "7.60920495189872\n",
            "The standard deviation is:\n",
            "3.0607876523260447\n"
          ],
          "name": "stdout"
        }
      ]
    },
    {
      "cell_type": "code",
      "metadata": {
        "colab": {
          "base_uri": "https://localhost:8080/"
        },
        "id": "-PfYGxzOu6EV",
        "outputId": "4f5c2e5b-7368-4d8a-ff81-e4f76ea52762"
      },
      "source": [
        "#QUESTION-4\n",
        "\n",
        "import numpy as np\n",
        "\n",
        "m = np . zeros ( [3, 3])\n",
        "\n",
        "print(m)\n"
      ],
      "execution_count": 73,
      "outputs": [
        {
          "output_type": "stream",
          "text": [
            "[[0. 0. 0.]\n",
            " [0. 0. 0.]\n",
            " [0. 0. 0.]]\n"
          ],
          "name": "stdout"
        }
      ]
    },
    {
      "cell_type": "code",
      "metadata": {
        "colab": {
          "base_uri": "https://localhost:8080/"
        },
        "id": "SLKcTs5KvJBN",
        "outputId": "431db6d6-9b72-4d2f-cda3-5b53b509cf3c"
      },
      "source": [
        "#QUESTION-5\n",
        "\n",
        "import numpy as np\n",
        "x= np. full( (3,3), 1)\n",
        "print (x)\n"
      ],
      "execution_count": 74,
      "outputs": [
        {
          "output_type": "stream",
          "text": [
            "[[1 1 1]\n",
            " [1 1 1]\n",
            " [1 1 1]]\n"
          ],
          "name": "stdout"
        }
      ]
    },
    {
      "cell_type": "code",
      "metadata": {
        "colab": {
          "base_uri": "https://localhost:8080/"
        },
        "id": "Ko4MqjMEvSo7",
        "outputId": "d4c1ea10-6d9f-48bf-862e-10a1a6095e43"
      },
      "source": [
        "#QUESTION-6\n",
        "#WITH NUMPY\n",
        "import numpy as np\n",
        "A= np. array ( [ [-2, -4, -1],\n",
        "\n",
        "[4,0,2],\n",
        "\n",
        "[1, 3,5],\n",
        "[6, -3,7]])\n",
        "\n",
        "B= np . array ( [ [8, 9, 10, -2],\n",
        "[11, 4, -4,2],\n",
        "[-1, 1,0,12]])\n",
        "\n",
        "np . matmul (A, B)\n"
      ],
      "execution_count": 75,
      "outputs": [
        {
          "output_type": "execute_result",
          "data": {
            "text/plain": [
              "array([[-59, -35,  -4, -16],\n",
              "       [ 30,  38,  40,  16],\n",
              "       [ 36,  26,  -2,  64],\n",
              "       [  8,  49,  72,  66]])"
            ]
          },
          "metadata": {
            "tags": []
          },
          "execution_count": 75
        }
      ]
    },
    {
      "cell_type": "code",
      "metadata": {
        "colab": {
          "base_uri": "https://localhost:8080/"
        },
        "id": "G1N85icUvaDe",
        "outputId": "010bb5f2-c942-40b4-df6f-7193ba25d5fc"
      },
      "source": [
        "#WITHOUT NUMPY\n",
        "A=np. array ( [ [ -2, -4, -1],\n",
        "[4,0,2],\n",
        "[1, 3,5],\n",
        "[6, -3,7]])\n",
        "B= np . array ([ [8,9,10, 2],\n",
        "[11, 4, -4,2],\n",
        "[-1, 1, 0,12]])\n",
        "result = [[0, 0, 0, 0],\n",
        "[0, 0, 0, 0],\n",
        "[0, 0, 0, 0],\n",
        "[0,0, 0,0]]\n",
        "for i in range(len(A) ):\n",
        "  for j in range(len(B[0])) :\n",
        "    for k in range(len(B) ) :\n",
        "      result[i][j] += A[i][k] * B[k][j]\n",
        "for r in result:\n",
        "  print (r)\n"
      ],
      "execution_count": 80,
      "outputs": [
        {
          "output_type": "stream",
          "text": [
            "[-59, -35, -4, -24]\n",
            "[30, 38, 40, 32]\n",
            "[36, 26, -2, 68]\n",
            "[8, 49, 72, 90]\n"
          ],
          "name": "stdout"
        }
      ]
    },
    {
      "cell_type": "code",
      "metadata": {
        "colab": {
          "base_uri": "https://localhost:8080/"
        },
        "id": "degePxxIv0LS",
        "outputId": "f9e47485-0eca-463d-b80e-a105d5275a8c"
      },
      "source": [
        "#QUESTION-7\n",
        "#WITH NUMPY\n",
        "import numpy as np\n",
        "\n",
        "A = np. array( [ [10, 0, -3],\n",
        "[-2, -4, 1],\n",
        "[3,0,2]])\n",
        "\n",
        "print(\"matrix is\")\n",
        "print(A)\n",
        "det= np. linalg. det(A)\n",
        "print(\"\\nDeterminant of given 3X3 square matrix:\")\n",
        "print(int (det) )\n"
      ],
      "execution_count": 81,
      "outputs": [
        {
          "output_type": "stream",
          "text": [
            "matrix is\n",
            "[[10  0 -3]\n",
            " [-2 -4  1]\n",
            " [ 3  0  2]]\n",
            "\n",
            "Determinant of given 3X3 square matrix:\n",
            "-116\n"
          ],
          "name": "stdout"
        }
      ]
    },
    {
      "cell_type": "code",
      "metadata": {
        "colab": {
          "base_uri": "https://localhost:8080/"
        },
        "id": "FbXXRqZMweTq",
        "outputId": "b7feed0f-5e5b-4630-aac1-6a87447ab4a6"
      },
      "source": [
        "#QUESTION-8\n",
        "import numpy as np\n",
        "import matplotlib. pyplot as plt\n",
        "\n",
        "x= np. array( [0, 1, 2, 3,4,5,6,7,8,9])\n",
        "y=np . array( [1, 3, 2,5,7,8,8,9, 10, 12])\n",
        "x,y\n"
      ],
      "execution_count": 84,
      "outputs": [
        {
          "output_type": "execute_result",
          "data": {
            "text/plain": [
              "(array([0, 1, 2, 3, 4, 5, 6, 7, 8, 9]),\n",
              " array([ 1,  3,  2,  5,  7,  8,  8,  9, 10, 12]))"
            ]
          },
          "metadata": {
            "tags": []
          },
          "execution_count": 84
        }
      ]
    },
    {
      "cell_type": "code",
      "metadata": {
        "colab": {
          "base_uri": "https://localhost:8080/"
        },
        "id": "hEsMOLB_ws1a",
        "outputId": "e726e680-a576-4d69-bf90-2fa35b2b4688"
      },
      "source": [
        "#QUESTION8 (1)\n",
        "n = np. size(x)\n",
        "x_mean = np. mean (x)\n",
        "\n",
        "y_mean = np. mean(y)\n",
        "x_mean, y_mean\n",
        "Sxy = np. sum(x*y)-n*x_mean*y_mean\n",
        "Sxx = np. sum(x*x)-n*x_mean*x_mean\n",
        "Sky = np. sum(x*y )-n*x_mean*y_mean\n",
        "Sxx = np. sum(x*x)-n*x_mean*x_mean\n",
        "\n",
        "b1 = Sxy/Sxx\n",
        "print( 'slope b1 is', b1)\n",
        "\n"
      ],
      "execution_count": 93,
      "outputs": [
        {
          "output_type": "stream",
          "text": [
            "slope b1 is 1.1696969696969697\n"
          ],
          "name": "stdout"
        }
      ]
    },
    {
      "cell_type": "code",
      "metadata": {
        "colab": {
          "base_uri": "https://localhost:8080/"
        },
        "id": "MCGHXR4XxA_n",
        "outputId": "7548b524-8cda-49d1-b36d-87f83dbbcd6f"
      },
      "source": [
        "#QUESTUION8(2)\n",
        "b0= y_mean-b1*x_mean\n",
        "print( 'intercept b0 is', b0)\n"
      ],
      "execution_count": 95,
      "outputs": [
        {
          "output_type": "stream",
          "text": [
            "intercept b0 is 1.2363636363636363\n"
          ],
          "name": "stdout"
        }
      ]
    },
    {
      "cell_type": "code",
      "metadata": {
        "colab": {
          "base_uri": "https://localhost:8080/",
          "height": 296
        },
        "id": "v79WZCzYxwPs",
        "outputId": "006c8d18-ce4c-4193-be8d-f4fa6d72a16b"
      },
      "source": [
        "#QUESTION8(4)\n",
        "y_pred = b1 * x + b0\n",
        "\n",
        "plt . scatter(x, y, color = 'red')\n",
        "plt. plot(x, y_pred, color ='green')\n",
        "plt. xlabel( 'x')\n",
        "plt. ylabel( 'y')\n"
      ],
      "execution_count": 98,
      "outputs": [
        {
          "output_type": "execute_result",
          "data": {
            "text/plain": [
              "Text(0, 0.5, 'y')"
            ]
          },
          "metadata": {
            "tags": []
          },
          "execution_count": 98
        },
        {
          "output_type": "display_data",
          "data": {
            "image/png": "[encoded data removed]",
            "text/plain": [
              "<Figure size 432x288 with 1 Axes>"
            ]
          },
          "metadata": {
            "tags": [],
            "needs_background": "light"
          }
        }
      ]
    },
    {
      "cell_type": "code",
      "metadata": {
        "colab": {
          "base_uri": "https://localhost:8080/"
        },
        "id": "LzwGiATUx-wm",
        "outputId": "7b19ad68-d529-4299-dd9f-5e6924c5b958"
      },
      "source": [
        "#QUESTION8 (5)\n",
        "error = y - y_pred\n",
        "se = np. sum(error**2)\n",
        "\n",
        "mse = se/n\n",
        "rmse = np. sqrt(mse)\n",
        "print ( 'root mean square error is', rmse)\n"
      ],
      "execution_count": 100,
      "outputs": [
        {
          "output_type": "stream",
          "text": [
            "root mean square error is 0.7499494932488736\n"
          ],
          "name": "stdout"
        }
      ]
    },
    {
      "cell_type": "code",
      "metadata": {
        "id": "G48tEkU7yT7m"
      },
      "source": [
        ""
      ],
      "execution_count": null,
      "outputs": []
    },
    {
      "cell_type": "code",
      "metadata": {
        "colab": {
          "base_uri": "https://localhost:8080/"
        },
        "id": "-cWG5ScEy9KA",
        "outputId": "373b2260-ac5f-4203-a363-afa4a377f6ee"
      },
      "source": [
        "#QUESTION-9\n",
        "import numpy as np\n",
        "import matplotlib. pyplot as plt\n",
        "\n",
        "x= np. array( [ 1, 2, 3,4,5,6,7,8,9,10])\n",
        "y=np . array( [300, 350,500,700,800,850,900,900,1000, 1200])\n",
        "x,y\n"
      ],
      "execution_count": 104,
      "outputs": [
        {
          "output_type": "execute_result",
          "data": {
            "text/plain": [
              "(array([ 1,  2,  3,  4,  5,  6,  7,  8,  9, 10]),\n",
              " array([ 300,  350,  500,  700,  800,  850,  900,  900, 1000, 1200]))"
            ]
          },
          "metadata": {
            "tags": []
          },
          "execution_count": 104
        }
      ]
    },
    {
      "cell_type": "code",
      "metadata": {
        "id": "vn1YiZgxzOJl"
      },
      "source": [
        ""
      ],
      "execution_count": 104,
      "outputs": []
    },
    {
      "cell_type": "code",
      "metadata": {
        "colab": {
          "base_uri": "https://localhost:8080/"
        },
        "id": "EzvUAgrZzYeb",
        "outputId": "9f77f5a1-f17b-4c85-d4a2-6ec3992b693b"
      },
      "source": [
        "#QUESTION9 (1)\n",
        "n = np. size(x)\n",
        "x_mean = np. mean (x)\n",
        "\n",
        "y_mean = np. mean(y)\n",
        "x_mean, y_mean\n",
        "Sxy = np. sum(x*y)-n*x_mean*y_mean\n",
        "Sxx = np. sum(x*x)-n*x_mean*x_mean\n",
        "Sxy = np. sum(x*y )-n*x_mean*y_mean\n",
        "Sxx = np. sum(x*x)-n*x_mean*x_mean\n",
        "\n",
        "b1 = Sxy/Sxx\n",
        "print( 'slope b1 is', b1)\n",
        "\n"
      ],
      "execution_count": 106,
      "outputs": [
        {
          "output_type": "stream",
          "text": [
            "slope b1 is 92.72727272727273\n"
          ],
          "name": "stdout"
        }
      ]
    },
    {
      "cell_type": "code",
      "metadata": {
        "colab": {
          "base_uri": "https://localhost:8080/"
        },
        "id": "s2acKq_ZzYec",
        "outputId": "b22f3a63-42d4-49ec-903d-163f20c6bf23"
      },
      "source": [
        "#QUESTION9(2)\n",
        "b0= y_mean-b1*x_mean\n",
        "print( 'intercept b0 is', b0)\n"
      ],
      "execution_count": 107,
      "outputs": [
        {
          "output_type": "stream",
          "text": [
            "intercept b0 is 239.99999999999994\n"
          ],
          "name": "stdout"
        }
      ]
    },
    {
      "cell_type": "code",
      "metadata": {
        "colab": {
          "base_uri": "https://localhost:8080/",
          "height": 296
        },
        "id": "BH7V8nifzYed",
        "outputId": "2f710b7d-b87d-4ec0-c3fb-02a2fb2a233f"
      },
      "source": [
        "#QUESTION9(4)\n",
        "y_pred = b1 * x + b0\n",
        "\n",
        "plt . scatter(x, y, color = 'red')\n",
        "plt. plot(x, y_pred, color ='green')\n",
        "plt. xlabel( 'x')\n",
        "plt. ylabel( 'y')\n"
      ],
      "execution_count": 108,
      "outputs": [
        {
          "output_type": "execute_result",
          "data": {
            "text/plain": [
              "Text(0, 0.5, 'y')"
            ]
          },
          "metadata": {
            "tags": []
          },
          "execution_count": 108
        },
        {
          "output_type": "display_data",
          "data": {
            "image/png": "[encoded data removed]",
            "text/plain": [
              "<Figure size 432x288 with 1 Axes>"
            ]
          },
          "metadata": {
            "tags": [],
            "needs_background": "light"
          }
        }
      ]
    },
    {
      "cell_type": "code",
      "metadata": {
        "colab": {
          "base_uri": "https://localhost:8080/"
        },
        "id": "il05ka_mzYeg",
        "outputId": "2c952152-8dbc-426b-fc7c-0c789ad65821"
      },
      "source": [
        "#QUESTION9 (5)\n",
        "error = y - y_pred\n",
        "se = np. sum(error**2)\n",
        "\n",
        "mse = se/n\n",
        "rmse = np. sqrt(mse)\n",
        "print ( 'root mean square error is', rmse)\n"
      ],
      "execution_count": 109,
      "outputs": [
        {
          "output_type": "stream",
          "text": [
            "root mean square error is 63.74665766639348\n"
          ],
          "name": "stdout"
        }
      ]
    },
    {
      "cell_type": "code",
      "metadata": {
        "id": "f9-T1aQbzzP4"
      },
      "source": [
        ""
      ],
      "execution_count": null,
      "outputs": []
    }
  ]
}